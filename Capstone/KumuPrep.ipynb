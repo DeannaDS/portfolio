{
 "cells": [
  {
   "cell_type": "code",
   "execution_count": null,
   "metadata": {},
   "outputs": [],
   "source": [
    "import pandas as pd\n",
    "import numpy as np\n",
    "import xlsxwriter"
   ]
  },
  {
   "cell_type": "markdown",
   "metadata": {},
   "source": [
    "# Notes on Pre-Cleaning\n",
    "Before this data was pulled into Python, column labels were changed from the original Qualtrics export. Column names were standardized to camel case and shortened to useable lengths.\n",
    "\n",
    "Additionally, the data was run through the TAMU geocoding service (http://geoservices.tamu.edu/Services/Geocode/) to get latitude adn longitude for each address."
   ]
  },
  {
   "cell_type": "code",
   "execution_count": null,
   "metadata": {},
   "outputs": [],
   "source": [
    "#read in the simplified final stakeholders - these are our nodes\n",
    "df = pd.read_csv('FinalStakeholders-simplified.csv')\n",
    "\n",
    "df.info()"
   ]
  },
  {
   "cell_type": "markdown",
   "metadata": {},
   "source": [
    "# Kumu Node Prep\n",
    "Kumu requires multi-value fields to be pipe-delimited. First, clean for Kumu. We'll make different assumptions for Kumu than we will for SNA analysis."
   ]
  },
  {
   "cell_type": "code",
   "execution_count": null,
   "metadata": {},
   "outputs": [],
   "source": [
    "#these are all the columns we won't show on Kumu\n",
    "dropColumns = ['ERGMFlag', 'Email', 'Address', 'City', 'State', 'Zip', 'HasSecondJob', 'IncomePercent', 'SocialMediaFlag', 'SocialMediaChoices', 'HoursOnSocialMedia','AnswerSources','AnswerSourcesOther','WebsiteFlag','NetworkOverlap', 'IntrovertExtrovertScale', 'PersonalSelfDependence', 'WorkSelfDependence','CollaborativeEconomicAdvantage', 'CollaborationsNotWorthIt', 'SocialMediaOther', 'OnlineMarketingFlag','Latitude', 'Longitude']\n",
    "#make a copy, drop unused columns and fill in blanks\n",
    "kumu = (df.copy()\n",
    "        .drop(dropColumns, axis=1)\n",
    "        .fillna({'Location': '',\n",
    "               'Roles': '', 'RolesOther': '', 'BusinessName': '',\n",
    "                'Employer': '',  'VendorMarkets': '', 'ConsumerMarkets': '',\n",
    "               'GroupAffiliations': '', 'GroupAffiliationsOther': '', \n",
    "                 'Website': ''}))\n",
    "\n",
    "#all of these columns \n",
    "listCols = ['Roles', 'VendorMarkets', 'ConsumerMarkets', 'GroupAffiliations']\n",
    "\n",
    "#clean up this: (Growing Connections, Hulings Rice Food Center)\n",
    "kumu['GroupAffiliations'] = kumu['GroupAffiliations'].apply(lambda x: x.replace('(Growing Connections, Hulings Rice Food Center)', '(Growing Connections or Hulings Rice Food Center)'))\n",
    "\n",
    "for col in listCols:\n",
    "    kumu[col] = kumu[col].apply(lambda x: x.replace(',', '|'))   \n",
    "    \n",
    " \n",
    "kumu.head()"
   ]
  },
  {
   "cell_type": "markdown",
   "metadata": {},
   "source": [
    "# Kumu Edge Prep\n",
    "For Kumu, we want the words (not the numbers) for our edge weights. We also want to drop the sensitive data. First we'll read in the file, drop unneeded columns and clean up the headers."
   ]
  },
  {
   "cell_type": "code",
   "execution_count": null,
   "metadata": {},
   "outputs": [],
   "source": [
    "kumuEdges = pd.read_csv('FromQualtricsEdges.csv', header=1)\n",
    "kumuEdges = (kumuEdges.drop([0], axis=0)\n",
    "         .drop(['Start Date', 'End Date', 'Response Type', 'IP Address', 'Progress', \n",
    "                'Duration (in seconds)', 'Finished', 'Recorded Date', 'Response ID', 'Recipient Last Name',\n",
    "               'Recipient First Name', 'Recipient Email', 'Location Latitude', 'Location Longitude',\n",
    "               'Distribution Channel', 'User Language'], axis=1))\n",
    "\n",
    "#update the Philomena row \n",
    "kumuEdges['External Data Reference'] = kumuEdges['External Data Reference'].apply(lambda x: 'Philomena Kebec (GLIFWC)' if x == 'Philomena Kebec (GIFWC)' else x )\n",
    "\n",
    "colNames = list(kumuEdges.columns)\n",
    "newColNames = {'External Data Reference': 'Label'}\n",
    "for c in colNames:\n",
    "    if \"Choose\" in c:\n",
    "        newColNames[c] = str.split(c, ' - ')[1]\n",
    "    \n",
    "#rename the columns and set the index\n",
    "kumuEdges = kumuEdges.rename(columns=newColNames).set_index('Label').fillna('Unknown')\n",
    "\n",
    "#fix the Philomena column\n",
    "kumuEdges['Philomena Kebec (GLIFWC)'] = kumuEdges['Philomena Kebec (GIFWC)']\n",
    "kumuEdges.drop(['Philomena Kebec (GIFWC)'], inplace=True, axis=1)\n",
    "\n",
    "\n",
    "\n",
    "\n",
    "kumuEdges.head(10)"
   ]
  },
  {
   "cell_type": "code",
   "execution_count": null,
   "metadata": {},
   "outputs": [],
   "source": [
    "#get the cleaned up column names\n",
    "colNames = list(kumuEdges.columns)\n",
    "#set up 3 lists for holding our 3 columns of data\n",
    "kFrom = []\n",
    "kTo = []\n",
    "kType = []\n",
    "kWeights = []\n",
    "\n",
    "weights = {\n",
    "    'Co-exist': 1,\n",
    "    'Communicate': 2,\n",
    "    'Coordinate': 3,\n",
    "    'Collaborate': 4\n",
    "}\n",
    "\n",
    "#iterate through each row and column and get the edge combinations and their type\n",
    "for i,j in kumuEdges.iterrows():\n",
    "    #for each column\n",
    "    for c in colNames:\n",
    "        connection = ''.join(kumuEdges.loc[[i],[c]].values[0])\n",
    "        if connection != 'Unknown':\n",
    "            #don't include self-loops, if anyone set one\n",
    "            if(i != c):\n",
    "                kFrom.append(i)\n",
    "                kTo.append(c)\n",
    "                kType.append(connection)\n",
    "                kWeights.append(weights[connection])\n",
    "\n",
    "dfKEdgeList = pd.DataFrame({'From': kFrom, 'To':kTo, 'Type': kType, 'Weight': kWeights})\n",
    "dfKEdgeList\n"
   ]
  },
  {
   "cell_type": "markdown",
   "metadata": {},
   "source": [
    "# Write to Excel\n",
    "For Kumu, we want one excel document with 2 sheets"
   ]
  },
  {
   "cell_type": "code",
   "execution_count": null,
   "metadata": {},
   "outputs": [],
   "source": [
    "# Create a Pandas Excel writer using XlsxWriter as the engine.\n",
    "writer = pd.ExcelWriter('kumuData.xlsx', engine='xlsxwriter', options={'index': False})\n",
    "\n",
    "# Write each dataframe to a different worksheet.\n",
    "#nodes\n",
    "kumu.to_excel(writer, sheet_name='Elements', index=False)\n",
    "#edges\n",
    "dfKEdgeList.to_excel(writer, sheet_name='Connections', index=False)\n",
    "\n",
    "# Close the Pandas Excel writer and output the Excel file.\n",
    "writer.save()"
   ]
  }
 ],
 "metadata": {
  "kernelspec": {
   "display_name": "Python 3",
   "language": "python",
   "name": "python3"
  },
  "language_info": {
   "codemirror_mode": {
    "name": "ipython",
    "version": 3
   },
   "file_extension": ".py",
   "mimetype": "text/x-python",
   "name": "python",
   "nbconvert_exporter": "python",
   "pygments_lexer": "ipython3",
   "version": "3.7.4"
  }
 },
 "nbformat": 4,
 "nbformat_minor": 2
}
